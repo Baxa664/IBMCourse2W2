{
    "cells": [
        {
            "cell_type": "markdown",
            "metadata": {},
            "source": "# Company funding records\nThe TechCrunch Continental USA file is a listing of 1,460 company funding records reported by TechCrunch. "
        },
        {
            "cell_type": "code",
            "execution_count": 5,
            "metadata": {
                "scrolled": true
            },
            "outputs": [
                {
                    "data": {
                        "text/html": "<div>\n<style scoped>\n    .dataframe tbody tr th:only-of-type {\n        vertical-align: middle;\n    }\n\n    .dataframe tbody tr th {\n        vertical-align: top;\n    }\n\n    .dataframe thead th {\n        text-align: right;\n    }\n</style>\n<table border=\"1\" class=\"dataframe\">\n  <thead>\n    <tr style=\"text-align: right;\">\n      <th></th>\n      <th>permalink</th>\n      <th>company</th>\n      <th>numEmps</th>\n      <th>category</th>\n      <th>city</th>\n      <th>state</th>\n      <th>fundedDate</th>\n      <th>raisedAmt</th>\n      <th>raisedCurrency</th>\n      <th>round</th>\n    </tr>\n  </thead>\n  <tbody>\n    <tr>\n      <th>0</th>\n      <td>lifelock</td>\n      <td>LifeLock</td>\n      <td>NaN</td>\n      <td>web</td>\n      <td>Tempe</td>\n      <td>AZ</td>\n      <td>1-May-07</td>\n      <td>6850000</td>\n      <td>USD</td>\n      <td>b</td>\n    </tr>\n    <tr>\n      <th>1</th>\n      <td>lifelock</td>\n      <td>LifeLock</td>\n      <td>NaN</td>\n      <td>web</td>\n      <td>Tempe</td>\n      <td>AZ</td>\n      <td>1-Oct-06</td>\n      <td>6000000</td>\n      <td>USD</td>\n      <td>a</td>\n    </tr>\n    <tr>\n      <th>2</th>\n      <td>lifelock</td>\n      <td>LifeLock</td>\n      <td>NaN</td>\n      <td>web</td>\n      <td>Tempe</td>\n      <td>AZ</td>\n      <td>1-Jan-08</td>\n      <td>25000000</td>\n      <td>USD</td>\n      <td>c</td>\n    </tr>\n    <tr>\n      <th>3</th>\n      <td>mycityfaces</td>\n      <td>MyCityFaces</td>\n      <td>7.0</td>\n      <td>web</td>\n      <td>Scottsdale</td>\n      <td>AZ</td>\n      <td>1-Jan-08</td>\n      <td>50000</td>\n      <td>USD</td>\n      <td>seed</td>\n    </tr>\n    <tr>\n      <th>4</th>\n      <td>flypaper</td>\n      <td>Flypaper</td>\n      <td>NaN</td>\n      <td>web</td>\n      <td>Phoenix</td>\n      <td>AZ</td>\n      <td>1-Feb-08</td>\n      <td>3000000</td>\n      <td>USD</td>\n      <td>a</td>\n    </tr>\n    <tr>\n      <th>5</th>\n      <td>infusionsoft</td>\n      <td>Infusionsoft</td>\n      <td>105.0</td>\n      <td>software</td>\n      <td>Gilbert</td>\n      <td>AZ</td>\n      <td>1-Oct-07</td>\n      <td>9000000</td>\n      <td>USD</td>\n      <td>a</td>\n    </tr>\n    <tr>\n      <th>6</th>\n      <td>gauto</td>\n      <td>gAuto</td>\n      <td>4.0</td>\n      <td>web</td>\n      <td>Scottsdale</td>\n      <td>AZ</td>\n      <td>1-Jan-08</td>\n      <td>250000</td>\n      <td>USD</td>\n      <td>seed</td>\n    </tr>\n    <tr>\n      <th>7</th>\n      <td>chosenlist-com</td>\n      <td>ChosenList.com</td>\n      <td>5.0</td>\n      <td>web</td>\n      <td>Scottsdale</td>\n      <td>AZ</td>\n      <td>1-Oct-06</td>\n      <td>140000</td>\n      <td>USD</td>\n      <td>seed</td>\n    </tr>\n    <tr>\n      <th>8</th>\n      <td>chosenlist-com</td>\n      <td>ChosenList.com</td>\n      <td>5.0</td>\n      <td>web</td>\n      <td>Scottsdale</td>\n      <td>AZ</td>\n      <td>25-Jan-08</td>\n      <td>233750</td>\n      <td>USD</td>\n      <td>angel</td>\n    </tr>\n    <tr>\n      <th>9</th>\n      <td>digg</td>\n      <td>Digg</td>\n      <td>60.0</td>\n      <td>web</td>\n      <td>San Francisco</td>\n      <td>CA</td>\n      <td>1-Dec-06</td>\n      <td>8500000</td>\n      <td>USD</td>\n      <td>b</td>\n    </tr>\n    <tr>\n      <th>10</th>\n      <td>digg</td>\n      <td>Digg</td>\n      <td>60.0</td>\n      <td>web</td>\n      <td>San Francisco</td>\n      <td>CA</td>\n      <td>1-Oct-05</td>\n      <td>2800000</td>\n      <td>USD</td>\n      <td>a</td>\n    </tr>\n  </tbody>\n</table>\n</div>",
                        "text/plain": "         permalink         company  numEmps  category           city state  \\\n0         lifelock        LifeLock      NaN       web          Tempe    AZ   \n1         lifelock        LifeLock      NaN       web          Tempe    AZ   \n2         lifelock        LifeLock      NaN       web          Tempe    AZ   \n3      mycityfaces     MyCityFaces      7.0       web     Scottsdale    AZ   \n4         flypaper        Flypaper      NaN       web        Phoenix    AZ   \n5     infusionsoft    Infusionsoft    105.0  software        Gilbert    AZ   \n6            gauto           gAuto      4.0       web     Scottsdale    AZ   \n7   chosenlist-com  ChosenList.com      5.0       web     Scottsdale    AZ   \n8   chosenlist-com  ChosenList.com      5.0       web     Scottsdale    AZ   \n9             digg            Digg     60.0       web  San Francisco    CA   \n10            digg            Digg     60.0       web  San Francisco    CA   \n\n   fundedDate  raisedAmt raisedCurrency  round  \n0    1-May-07    6850000            USD      b  \n1    1-Oct-06    6000000            USD      a  \n2    1-Jan-08   25000000            USD      c  \n3    1-Jan-08      50000            USD   seed  \n4    1-Feb-08    3000000            USD      a  \n5    1-Oct-07    9000000            USD      a  \n6    1-Jan-08     250000            USD   seed  \n7    1-Oct-06     140000            USD   seed  \n8   25-Jan-08     233750            USD  angel  \n9    1-Dec-06    8500000            USD      b  \n10   1-Oct-05    2800000            USD      a  "
                    },
                    "execution_count": 5,
                    "metadata": {},
                    "output_type": "execute_result"
                }
            ],
            "source": "# The code was removed by Watson Studio for sharing."
        },
        {
            "cell_type": "code",
            "execution_count": null,
            "metadata": {},
            "outputs": [],
            "source": ""
        },
        {
            "cell_type": "code",
            "execution_count": null,
            "metadata": {},
            "outputs": [],
            "source": ""
        }
    ],
    "metadata": {
        "kernelspec": {
            "display_name": "Python 3.6",
            "language": "python",
            "name": "python3"
        },
        "language_info": {
            "codemirror_mode": {
                "name": "ipython",
                "version": 3
            },
            "file_extension": ".py",
            "mimetype": "text/x-python",
            "name": "python",
            "nbconvert_exporter": "python",
            "pygments_lexer": "ipython3",
            "version": "3.6.9"
        }
    },
    "nbformat": 4,
    "nbformat_minor": 1
}